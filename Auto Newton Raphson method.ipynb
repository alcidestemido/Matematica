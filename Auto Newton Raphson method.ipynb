{
 "cells": [
  {
   "cell_type": "code",
   "execution_count": 1,
   "metadata": {},
   "outputs": [],
   "source": [
    "import sympy as sp"
   ]
  },
  {
   "cell_type": "code",
   "execution_count": 9,
   "metadata": {},
   "outputs": [],
   "source": [
    "def NRaphson_fun(fn,x,tol = 0.0001,maxiter = 1000):\n",
    "    func = sp.sympify(fn)\n",
    "    dfunc=sp.diff(func)\n",
    "    symb = list(func.free_symbols)[0]\n",
    "    assert len(list(func.free_symbols))==1 , \"a expressão deve ter apenas uma variável livre.\"\n",
    "    for i in range(maxiter):\n",
    "        xn = x - func.subs(symb,x)/dfunc.subs(symb,x)\n",
    "        #xn = x - fn[0](x)/fn[1](x)\n",
    "        if abs(xn -x)<tol: break\n",
    "        x = xn\n",
    "    return xn ,i   "
   ]
  },
  {
   "cell_type": "code",
   "execution_count": 13,
   "metadata": {},
   "outputs": [
    {
     "name": "stdout",
     "output_type": "stream",
     "text": [
      "Equação: 2*x**2 + 3*x -2 \n",
      "Chute inicial: 0\n"
     ]
    },
    {
     "data": {
      "text/plain": [
       "' A raiz é 0.500000 e foram feitas 3 interações'"
      ]
     },
     "execution_count": 13,
     "metadata": {},
     "output_type": "execute_result"
    }
   ],
   "source": [
    "x = sp.symbols('x')\n",
    "fn = input('Equação: ')\n",
    "x,n = NRaphson_fun(fn,float(input(\"Chute inicial: \")))\n",
    "\" A raiz é %f e foram feitas %d interações\" % (x,n)"
   ]
  },
  {
   "cell_type": "code",
   "execution_count": 8,
   "metadata": {},
   "outputs": [
    {
     "data": {
      "text/plain": [
       "0.0"
      ]
     },
     "execution_count": 8,
     "metadata": {},
     "output_type": "execute_result"
    }
   ],
   "source": [
    "#Testing \n",
    "x = 0.5 \n",
    "2*x**2 + 3*x -2 "
   ]
  }
 ],
 "metadata": {
  "kernelspec": {
   "display_name": "Python 3",
   "language": "python",
   "name": "python3"
  },
  "language_info": {
   "codemirror_mode": {
    "name": "ipython",
    "version": 3
   },
   "file_extension": ".py",
   "mimetype": "text/x-python",
   "name": "python",
   "nbconvert_exporter": "python",
   "pygments_lexer": "ipython3",
   "version": "3.8.3"
  }
 },
 "nbformat": 4,
 "nbformat_minor": 2
}
