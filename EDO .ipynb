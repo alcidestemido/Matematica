{
 "cells": [
  {
   "cell_type": "markdown",
   "metadata": {},
   "source": [
    "EDO simbolicas \n",
    "https://www.sympy.org/en/index.html"
   ]
  },
  {
   "cell_type": "code",
   "execution_count": 54,
   "metadata": {},
   "outputs": [],
   "source": [
    "from sympy import Function, Derivative ,init_printing\n",
    "from sympy.abc import x,t # x and t are the independent variable\n",
    "from sympy import symbols, Eq, Function, dsolve, classify_ode, checkodesol \n",
    "from sympy.solvers.ode.systems import dsolve_system\n"
   ]
  },
  {
   "cell_type": "markdown",
   "metadata": {},
   "source": [
    "For Single Ordinary Differential Equation\n",
    "\n",
    "It is classified under this when number of equation in eq is one. Usage\n",
    "\n",
    "dsolve(eq, f(x), hint) -> Solve ordinary differential equation eq for function f(x), using method hint."
   ]
  },
  {
   "cell_type": "code",
   "execution_count": 56,
   "metadata": {},
   "outputs": [],
   "source": [
    "init_printing()\n",
    "f, P, Q = map(Function, ['f', 'P', 'Q'])"
   ]
  },
  {
   "cell_type": "code",
   "execution_count": 57,
   "metadata": {},
   "outputs": [
    {
     "data": {
      "image/png": "[encoded data removed]",
      "text/latex": [
       "$\\displaystyle \\frac{d}{d x} f{\\left(x \\right)}$"
      ],
      "text/plain": [
       "d       \n",
       "──(f(x))\n",
       "dx      "
      ]
     },
     "execution_count": 57,
     "metadata": {},
     "output_type": "execute_result"
    }
   ],
   "source": [
    "Derivative(f(x),x)"
   ]
  },
  {
   "cell_type": "code",
   "execution_count": 96,
   "metadata": {},
   "outputs": [
    {
     "data": {
      "image/png": "[encoded data removed]",
      "text/latex": [
       "$\\displaystyle \\frac{d^{2}}{d x^{2}} f{\\left(x \\right)}$"
      ],
      "text/plain": [
       "  2      \n",
       " d       \n",
       "───(f(x))\n",
       "  2      \n",
       "dx       "
      ]
     },
     "execution_count": 96,
     "metadata": {},
     "output_type": "execute_result"
    }
   ],
   "source": [
    "Derivative(f(x),x,2)"
   ]
  },
  {
   "cell_type": "code",
   "execution_count": 97,
   "metadata": {},
   "outputs": [
    {
     "data": {
      "image/png": "[encoded data removed]",
      "text/latex": [
       "$\\displaystyle \\frac{d^{3}}{d x^{3}} f{\\left(x \\right)}$"
      ],
      "text/plain": [
       "  3      \n",
       " d       \n",
       "───(f(x))\n",
       "  3      \n",
       "dx       "
      ]
     },
     "execution_count": 97,
     "metadata": {},
     "output_type": "execute_result"
    }
   ],
   "source": [
    "Derivative(f(x),x,3)"
   ]
  },
  {
   "cell_type": "code",
   "execution_count": 60,
   "metadata": {},
   "outputs": [
    {
     "data": {
      "text/plain": [
       "{'nth_linear_constant_coeff_homogeneous': Eq(f(x), C1*sin(3*x) + C2*cos(3*x)),\n",
       " '2nd_power_series_ordinary': Eq(f(x), C2*(27*x**4/8 - 9*x**2/2 + 1) + C1*x*(1 - 3*x**2/2) + O(x**6)),\n",
       " 'best': Eq(f(x), C1*sin(3*x) + C2*cos(3*x)),\n",
       " 'best_hint': 'nth_linear_constant_coeff_homogeneous',\n",
       " 'default': 'nth_linear_constant_coeff_homogeneous',\n",
       " 'order': 2}"
      ]
     },
     "execution_count": 60,
     "metadata": {},
     "output_type": "execute_result"
    }
   ],
   "source": [
    "# Exemplo 1\n",
    "eq1 = Derivative(f(x),x,x) + 9*f(x)\n",
    "dsolve(eq1,f(x),hint = 'all')"
   ]
  },
  {
   "cell_type": "code",
   "execution_count": 61,
   "metadata": {},
   "outputs": [
    {
     "data": {
      "text/plain": [
       "('nth_linear_constant_coeff_homogeneous', '2nd_power_series_ordinary')"
      ]
     },
     "execution_count": 61,
     "metadata": {},
     "output_type": "execute_result"
    }
   ],
   "source": [
    "classify_ode(eq1,f(x))"
   ]
  },
  {
   "cell_type": "code",
   "execution_count": 62,
   "metadata": {},
   "outputs": [
    {
     "data": {
      "image/png": "[encoded data removed]",
      "text/latex": [
       "$\\displaystyle f{\\left(x \\right)} = C_{1} + \\frac{3 x^{2}}{2} - x$"
      ],
      "text/plain": [
       "               2    \n",
       "            3⋅x     \n",
       "f(x) = C₁ + ──── - x\n",
       "             2      "
      ]
     },
     "execution_count": 62,
     "metadata": {},
     "output_type": "execute_result"
    }
   ],
   "source": [
    "# Exemplo 2\n",
    "eq2 = Derivative(f(x),x) - 3*x + 1\n",
    "dsolve(eq2,f(x),hint = 'Bernoulli')"
   ]
  },
  {
   "cell_type": "code",
   "execution_count": 63,
   "metadata": {
    "scrolled": true
   },
   "outputs": [
    {
     "data": {
      "text/plain": [
       "('nth_algebraic',\n",
       " 'separable',\n",
       " '1st_exact',\n",
       " '1st_linear',\n",
       " 'Bernoulli',\n",
       " '1st_power_series',\n",
       " 'lie_group',\n",
       " 'nth_linear_constant_coeff_undetermined_coefficients',\n",
       " 'nth_linear_euler_eq_nonhomogeneous_undetermined_coefficients',\n",
       " 'nth_linear_constant_coeff_variation_of_parameters',\n",
       " 'nth_linear_euler_eq_nonhomogeneous_variation_of_parameters',\n",
       " 'nth_algebraic_Integral',\n",
       " 'separable_Integral',\n",
       " '1st_exact_Integral',\n",
       " '1st_linear_Integral',\n",
       " 'Bernoulli_Integral',\n",
       " 'nth_linear_constant_coeff_variation_of_parameters_Integral',\n",
       " 'nth_linear_euler_eq_nonhomogeneous_variation_of_parameters_Integral')"
      ]
     },
     "execution_count": 63,
     "metadata": {},
     "output_type": "execute_result"
    }
   ],
   "source": [
    "classify_ode(eq2,f(x))"
   ]
  },
  {
   "cell_type": "code",
   "execution_count": 64,
   "metadata": {},
   "outputs": [
    {
     "data": {
      "image/png": "[encoded data removed]",
      "text/latex": [
       "$\\displaystyle \\frac{d}{d t} f{\\left(t \\right)} = 5 f{\\left(t \\right)} - 3$"
      ],
      "text/plain": [
       "d                    \n",
       "──(f(t)) = 5⋅f(t) - 3\n",
       "dt                   "
      ]
     },
     "execution_count": 64,
     "metadata": {},
     "output_type": "execute_result"
    }
   ],
   "source": [
    "#EDO como PVI \n",
    "#Exemplo 3 :\n",
    "eq3 = Eq(Derivative(f(t),t),5*f(t)- 3)\n",
    "eq3\n"
   ]
  },
  {
   "cell_type": "code",
   "execution_count": 65,
   "metadata": {},
   "outputs": [
    {
     "data": {
      "image/png": "[encoded data removed]",
      "text/latex": [
       "$\\displaystyle f{\\left(t \\right)} = \\frac{C_{1} e^{5 t}}{5} + \\frac{3}{5}$"
      ],
      "text/plain": [
       "           5⋅t    \n",
       "       C₁⋅ℯ      3\n",
       "f(t) = ─────── + ─\n",
       "          5      5"
      ]
     },
     "execution_count": 65,
     "metadata": {},
     "output_type": "execute_result"
    }
   ],
   "source": [
    "sol_eq3 = dsolve(eq3,f(t),'separable')\n",
    "sol_eq3\n"
   ]
  },
  {
   "cell_type": "code",
   "execution_count": 66,
   "metadata": {},
   "outputs": [
    {
     "data": {
      "image/png": "[encoded data removed]",
      "text/latex": [
       "$\\displaystyle f{\\left(t \\right)} = \\frac{2 e^{5 t}}{5 e^{10}} + \\frac{3}{5}$"
      ],
      "text/plain": [
       "          -10  5⋅t    \n",
       "       2⋅ℯ   ⋅ℯ      3\n",
       "f(t) = ─────────── + ─\n",
       "            5        5"
      ]
     },
     "execution_count": 66,
     "metadata": {},
     "output_type": "execute_result"
    }
   ],
   "source": [
    "# ics={f(point}: value, f(x).diff(x, order).subs(x, point): value}\n",
    "sol_eq3 = dsolve(eq3,f(t),'separable',ics = {f(2):1})\n",
    "sol_eq3"
   ]
  },
  {
   "cell_type": "code",
   "execution_count": 67,
   "metadata": {},
   "outputs": [
    {
     "data": {
      "text/plain": [
       "(True, 0)"
      ]
     },
     "execution_count": 67,
     "metadata": {},
     "output_type": "execute_result"
    }
   ],
   "source": [
    "checkodesol(eq3,sol_eq3)"
   ]
  },
  {
   "cell_type": "code",
   "execution_count": 68,
   "metadata": {},
   "outputs": [
    {
     "data": {
      "text/plain": [
       "('separable',\n",
       " '1st_exact',\n",
       " '1st_linear',\n",
       " 'Bernoulli',\n",
       " 'almost_linear',\n",
       " '1st_power_series',\n",
       " 'lie_group',\n",
       " 'nth_linear_constant_coeff_undetermined_coefficients',\n",
       " 'nth_linear_constant_coeff_variation_of_parameters',\n",
       " 'separable_Integral',\n",
       " '1st_exact_Integral',\n",
       " '1st_linear_Integral',\n",
       " 'Bernoulli_Integral',\n",
       " 'almost_linear_Integral',\n",
       " 'nth_linear_constant_coeff_variation_of_parameters_Integral')"
      ]
     },
     "execution_count": 68,
     "metadata": {},
     "output_type": "execute_result"
    }
   ],
   "source": [
    "classify_ode(eq3,f(t))"
   ]
  },
  {
   "cell_type": "code",
   "execution_count": 93,
   "metadata": {},
   "outputs": [
    {
     "data": {
      "image/png": "[encoded data removed]",
      "text/latex": [
       "$\\displaystyle \\left( \\frac{d}{d x} f{\\left(x \\right)} = Q{\\left(x \\right)}, \\  \\frac{d}{d x} Q{\\left(x \\right)} = f{\\left(x \\right)}\\right)$"
      ],
      "text/plain": [
       "⎛d                d              ⎞\n",
       "⎜──(f(x)) = Q(x), ──(Q(x)) = f(x)⎟\n",
       "⎝dx               dx             ⎠"
      ]
     },
     "execution_count": 93,
     "metadata": {},
     "output_type": "execute_result"
    }
   ],
   "source": [
    "#exemplo 4 Resolvendo um sistema de EDO \n",
    "eq4 = Eq(f(x).diff(x), Q(x)), Eq(Q(x).diff(x), f(x))\n",
    "eq4"
   ]
  },
  {
   "cell_type": "code",
   "execution_count": 94,
   "metadata": {},
   "outputs": [
    {
     "data": {
      "image/png": "[encoded data removed]",
      "text/latex": [
       "$\\displaystyle \\left[ \\left[ f{\\left(x \\right)} = - C_{1} e^{- x} + C_{2} e^{x}, \\  Q{\\left(x \\right)} = C_{1} e^{- x} + C_{2} e^{x}\\right]\\right]$"
      ],
      "text/plain": [
       "⎡⎡             -x       x             -x       x⎤⎤\n",
       "⎣⎣f(x) = - C₁⋅ℯ   + C₂⋅ℯ , Q(x) = C₁⋅ℯ   + C₂⋅ℯ ⎦⎦"
      ]
     },
     "execution_count": 94,
     "metadata": {},
     "output_type": "execute_result"
    }
   ],
   "source": [
    "solve_system = dsolve_system(eq4)\n",
    "solve_system"
   ]
  },
  {
   "cell_type": "code",
   "execution_count": 95,
   "metadata": {},
   "outputs": [
    {
     "data": {
      "image/png": "[encoded data removed]",
      "text/latex": [
       "$\\displaystyle \\left[ \\left[ f{\\left(x \\right)} = \\frac{e^{x}}{2} + \\frac{e^{- x}}{2}, \\  Q{\\left(x \\right)} = \\frac{e^{x}}{2} - \\frac{e^{- x}}{2}\\right]\\right]$"
      ],
      "text/plain": [
       "⎡⎡        x    -x          x    -x⎤⎤\n",
       "⎢⎢       ℯ    ℯ           ℯ    ℯ  ⎥⎥\n",
       "⎢⎢f(x) = ── + ───, Q(x) = ── - ───⎥⎥\n",
       "⎣⎣       2     2          2     2 ⎦⎦"
      ]
     },
     "execution_count": 95,
     "metadata": {},
     "output_type": "execute_result"
    }
   ],
   "source": [
    "# Mesmo sistema de edo do exemplo 4 mas agora como PVI\n",
    "solve_system = dsolve_system(eq4,ics = {f(0): 1, Q(0): 0})\n",
    "solve_system"
   ]
  },
  {
   "cell_type": "code",
   "execution_count": 72,
   "metadata": {},
   "outputs": [
    {
     "data": {
      "image/png": "[encoded data removed]",
      "text/latex": [
       "$\\displaystyle P{\\left(x \\right)} f{\\left(x \\right)} + \\frac{d}{d x} f{\\left(x \\right)} = Q{\\left(x \\right)}$"
      ],
      "text/plain": [
       "            d              \n",
       "P(x)⋅f(x) + ──(f(x)) = Q(x)\n",
       "            dx             "
      ]
     },
     "execution_count": 72,
     "metadata": {},
     "output_type": "execute_result"
    }
   ],
   "source": [
    "# Fator integrante\n",
    "eq_edo = Eq(f(x).diff(x) + P(x)*f(x),Q(x))\n",
    "eq_edo"
   ]
  },
  {
   "cell_type": "code",
   "execution_count": 73,
   "metadata": {},
   "outputs": [
    {
     "data": {
      "image/png": "[encoded data removed]",
      "text/latex": [
       "$\\displaystyle f{\\left(x \\right)} = \\left(C_{1} + \\int Q{\\left(x \\right)} e^{\\int P{\\left(x \\right)}\\, dx}\\, dx\\right) e^{- \\int P{\\left(x \\right)}\\, dx}$"
      ],
      "text/plain": [
       "       ⎛     ⌠                   ⎞            \n",
       "       ⎜     ⎮       ⌠           ⎟   ⌠        \n",
       "       ⎜     ⎮       ⎮ P(x) dx   ⎟  -⎮ P(x) dx\n",
       "       ⎜     ⎮       ⌡           ⎟   ⌡        \n",
       "f(x) = ⎜C₁ + ⎮ Q(x)⋅ℯ          dx⎟⋅ℯ          \n",
       "       ⎝     ⌡                   ⎠            "
      ]
     },
     "execution_count": 73,
     "metadata": {},
     "output_type": "execute_result"
    }
   ],
   "source": [
    "dsolve(eq_edo,f(x),hint = '1st_linear_Integral')"
   ]
  }
 ],
 "metadata": {
  "kernelspec": {
   "display_name": "Python 3",
   "language": "python",
   "name": "python3"
  },
  "language_info": {
   "codemirror_mode": {
    "name": "ipython",
    "version": 3
   },
   "file_extension": ".py",
   "mimetype": "text/x-python",
   "name": "python",
   "nbconvert_exporter": "python",
   "pygments_lexer": "ipython3",
   "version": "3.8.3"
  }
 },
 "nbformat": 4,
 "nbformat_minor": 2
}
