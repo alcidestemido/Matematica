{
 "cells": [
  {
   "cell_type": "code",
   "execution_count": 2,
   "metadata": {},
   "outputs": [],
   "source": [
    "import numpy as np\n",
    "import matplotlib.pyplot as plt\n",
    "%matplotlib inline"
   ]
  },
  {
   "cell_type": "code",
   "execution_count": 3,
   "metadata": {},
   "outputs": [],
   "source": [
    "#Dada a tabela abaixo, calcule a exp(3.1) usando um polinomio de interpolação.\n",
    "x = np.array([2.4,2.6,2.8,3.0,3.2,3.4,3.6,3.8])\n",
    "exp_x = np.array([11.02,13.46,16.44,20.08,24.53,29.96,36.59,44.70])"
   ]
  },
  {
   "cell_type": "code",
   "execution_count": 4,
   "metadata": {},
   "outputs": [
    {
     "data": {
      "text/plain": [
       "22.193589285714282"
      ]
     },
     "execution_count": 4,
     "metadata": {},
     "output_type": "execute_result"
    }
   ],
   "source": [
    "from scipy.interpolate import interp1d\n",
    "\n",
    "k = interp1d(x,exp_x,2) # kind is nearest ,previous,next,zero,quadratic,cubic or a number as 0 - 3.\n",
    "float(k(3.1))"
   ]
  },
  {
   "cell_type": "code",
   "execution_count": 5,
   "metadata": {},
   "outputs": [
    {
     "data": {
      "text/plain": [
       "<matplotlib.lines.Line2D at 0x16257014940>"
      ]
     },
     "execution_count": 5,
     "metadata": {},
     "output_type": "execute_result"
    },
    {
     "data": {
      "image/png": "[encoded data removed]",
      "text/plain": [
       "<Figure size 432x288 with 1 Axes>"
      ]
     },
     "metadata": {
      "needs_background": "light"
     },
     "output_type": "display_data"
    }
   ],
   "source": [
    "#Conferindo com o plot\n",
    "plt.plot(x,exp_x,'g-')\n",
    "plt.xlabel('x')\n",
    "plt.ylabel('exp_x')\n",
    "plt.axhline(y=22.19)\n",
    "plt.axvline(x=3.1)\n"
   ]
  },
  {
   "cell_type": "code",
   "execution_count": 6,
   "metadata": {},
   "outputs": [
    {
     "data": {
      "text/plain": [
       "array([268., 357.])"
      ]
     },
     "execution_count": 6,
     "metadata": {},
     "output_type": "execute_result"
    }
   ],
   "source": [
    "#INTERPOLAÇAO 3D\n",
    "from scipy.interpolate import RegularGridInterpolator\n",
    "from numpy import linspace, zeros, array\n",
    "x = linspace(1,4,11)\n",
    "y = linspace(4,7,22)\n",
    "z = linspace(7,9,33)\n",
    "V = zeros((11,22,33))\n",
    "for i in range(11):\n",
    "    for j in range(22):\n",
    "        for k in range(33):\n",
    "            V[i,j,k] = 100*x[i] + 10*y[j] + z[k]\n",
    "fn = RegularGridInterpolator((x,y,z), V)\n",
    "pts = array([[2,6,8],[3,5,7]])\n",
    "fn(pts)"
   ]
  },
  {
   "cell_type": "code",
   "execution_count": 7,
   "metadata": {},
   "outputs": [],
   "source": [
    "#Testando dados da tabela do Incropera (Temperatura e pressão)\n",
    "Temp = np.array([273.15,275])\n",
    "Pres = np.array([0.00611,0.00697])"
   ]
  },
  {
   "cell_type": "code",
   "execution_count": 8,
   "metadata": {},
   "outputs": [
    {
     "data": {
      "text/plain": [
       "0.0065051351351351405"
      ]
     },
     "execution_count": 8,
     "metadata": {},
     "output_type": "execute_result"
    }
   ],
   "source": [
    "inter = interp1d(Temp,Pres)\n",
    "result = float(inter(274))\n",
    "result"
   ]
  }
 ],
 "metadata": {
  "kernelspec": {
   "display_name": "Python 3",
   "language": "python",
   "name": "python3"
  },
  "language_info": {
   "codemirror_mode": {
    "name": "ipython",
    "version": 3
   },
   "file_extension": ".py",
   "mimetype": "text/x-python",
   "name": "python",
   "nbconvert_exporter": "python",
   "pygments_lexer": "ipython3",
   "version": "3.8.3"
  }
 },
 "nbformat": 4,
 "nbformat_minor": 2
}
