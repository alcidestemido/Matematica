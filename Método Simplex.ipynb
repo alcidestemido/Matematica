{
 "cells": [
  {
   "cell_type": "code",
   "execution_count": 1,
   "metadata": {},
   "outputs": [],
   "source": [
    "from scipy.optimize import linprog\n",
    "# x : ndarray\n",
    "#     The independent variable vector which optimizes the linear\n",
    "#     programming problem.\n",
    "# fun : float\n",
    "#     Value of the objective function.\n",
    "# slack : ndarray\n",
    "#     The values of the slack variables.  Each slack variable corresponds\n",
    "#     to an inequality constraint.  If the slack is zero, then the\n",
    "#     corresponding constraint is active.\n",
    "# success : bool\n",
    "#     Returns True if the algorithm succeeded in finding an optimal\n",
    "#     solution.\n",
    "# status : int\n",
    "#     An integer representing the exit status of the optimization::\n",
    "#      0 : Optimization terminated successfully\n",
    "#      1 : Iteration limit reached\n",
    "#      2 : Problem appears to be infeasible\n",
    "#      3 : Problem appears to be unbounded\n",
    "# nit : int\n",
    "#     The number of iterations performed.\n",
    "# message : str\n",
    "#     A string descriptor of the exit status of the optimization."
   ]
  },
  {
   "cell_type": "code",
   "execution_count": 8,
   "metadata": {},
   "outputs": [
    {
     "name": "stdout",
     "output_type": "stream",
     "text": [
      "     con: array([], dtype=float64)\n",
      "     fun: -13.0\n",
      " message: 'Optimization terminated successfully.'\n",
      "     nit: 2\n",
      "   slack: array([0., 0., 3., 3.])\n",
      "  status: 0\n",
      " success: True\n",
      "       x: array([3., 2.])\n"
     ]
    }
   ],
   "source": [
    "z = [-3,-2]\n",
    "restr = [[2,1],[1,2],[0,1],[-1,1]]\n",
    "ineq = [8,7,5,2]\n",
    "x = (0,None)\n",
    "y = (0,None)\n",
    "res = linprog(z,restr,ineq,bounds = (x,y),method ='revised simplex')\n",
    "print(res)"
   ]
  },
  {
   "cell_type": "code",
   "execution_count": 9,
   "metadata": {},
   "outputs": [
    {
     "name": "stdout",
     "output_type": "stream",
     "text": [
      "     con: array([], dtype=float64)\n",
      "     fun: -7.6923076923076925\n",
      " message: 'Optimization terminated successfully.'\n",
      "     nit: 1\n",
      "   slack: array([0.        , 6.15384615, 2.30769231])\n",
      "  status: 0\n",
      " success: True\n",
      "       x: array([ 0.        , 15.38461538])\n"
     ]
    }
   ],
   "source": [
    "z = [-0.2,-0.5]\n",
    "restr = [[10,13],[5,10],[1,0.5]]\n",
    "ineq = [200,160,10]\n",
    "x = (0,None)\n",
    "y = (0,None)\n",
    "res = linprog(z,restr,ineq,bounds = (x,y),method = 'revised simplex')\n",
    "print(res)"
   ]
  },
  {
   "cell_type": "code",
   "execution_count": 10,
   "metadata": {},
   "outputs": [
    {
     "name": "stdout",
     "output_type": "stream",
     "text": [
      "     con: array([], dtype=float64)\n",
      "     fun: 13.0\n",
      " message: 'Optimization terminated successfully.'\n",
      "     nit: 3\n",
      "   slack: array([0., 8., 0.])\n",
      "  status: 0\n",
      " success: True\n",
      "       x: array([3., 2.])\n"
     ]
    }
   ],
   "source": [
    "z = [3,2]\n",
    "restr = [[-2,-1],[-6,-1],[-1,-3]]\n",
    "ineq = [-8,-12,-9]\n",
    "x = (0,None)\n",
    "y = (0,None)\n",
    "res = linprog(z,restr,ineq,bounds = (x,y),method = 'revised simplex')\n",
    "print(res)"
   ]
  },
  {
   "cell_type": "code",
   "execution_count": 7,
   "metadata": {},
   "outputs": [
    {
     "name": "stdout",
     "output_type": "stream",
     "text": [
      "     con: array([], dtype=float64)\n",
      "     fun: 0.0\n",
      " message: \"Phase 1 of the simplex method failed to find a feasible solution. The pseudo-objective function evaluates to 6.0e+00 which exceeds the required tolerance of 1e-09 for a solution to be considered 'close enough' to zero to be a basic solution. Consider increasing the tolerance to be greater than 6.0e+00. If this tolerance is unacceptably  large the problem may be infeasible.\"\n",
      "     nit: 1\n",
      "   slack: array([ 1., -6.])\n",
      "  status: 2\n",
      " success: False\n",
      "       x: array([0., 0.])\n"
     ]
    }
   ],
   "source": [
    "z = [-1,-1]\n",
    "restr = [[1,1],[2,3]]\n",
    "ineq =[1,-6]\n",
    "x = (0,None)\n",
    "y = (0,None)\n",
    "res = linprog(z,restr,ineq,bounds=(x,y),method = 'simplex')\n",
    "print(res)"
   ]
  },
  {
   "cell_type": "code",
   "execution_count": 12,
   "metadata": {},
   "outputs": [
    {
     "name": "stdout",
     "output_type": "stream",
     "text": [
      "     con: array([], dtype=float64)\n",
      "     fun: -1.0\n",
      " message: 'Optimization terminated successfully.'\n",
      "     nit: 2\n",
      "   slack: array([0., 0.])\n",
      "  status: 0\n",
      " success: True\n",
      "       x: array([1., 2.])\n"
     ]
    }
   ],
   "source": [
    "z = [1,-1]\n",
    "restr = [[-1,1],[1,0]]\n",
    "ineq = [1,1]\n",
    "x = (0,None)\n",
    "y = (0,None)\n",
    "res = linprog(z,restr,ineq,bounds=(x,y),method = 'simplex')\n",
    "print(res)"
   ]
  },
  {
   "cell_type": "code",
   "execution_count": null,
   "metadata": {},
   "outputs": [],
   "source": [
    "z = [-0,2,-0.5]\n",
    "restr = [[10,13],[5,10],[1,0.5]]\n",
    "ineq =[200,160,10]"
   ]
  }
 ],
 "metadata": {
  "kernelspec": {
   "display_name": "Python 3",
   "language": "python",
   "name": "python3"
  },
  "language_info": {
   "codemirror_mode": {
    "name": "ipython",
    "version": 3
   },
   "file_extension": ".py",
   "mimetype": "text/x-python",
   "name": "python",
   "nbconvert_exporter": "python",
   "pygments_lexer": "ipython3",
   "version": "3.8.3"
  }
 },
 "nbformat": 4,
 "nbformat_minor": 4
}
