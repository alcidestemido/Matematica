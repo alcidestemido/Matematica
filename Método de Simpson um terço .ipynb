{
 "cells": [
  {
   "cell_type": "code",
   "execution_count": null,
   "metadata": {},
   "outputs": [],
   "source": [
    "import sympy as sp \n",
    "#Função \n",
    "def fun(fn,x):\n",
    "    func = sp.sympify(fn)\n",
    "    dfunc=sp.diff(func)\n",
    "    symb = list(func.free_symbols)[0]\n",
    "    assert len(list(func.free_symbols))==1\n",
    "    fn = func.subs(symb,x)\n",
    "    return fn\n",
    "\n",
    "x = sp.symbols('x')"
   ]
  },
  {
   "cell_type": "code",
   "execution_count": null,
   "metadata": {},
   "outputs": [],
   "source": [
    "#Integral de Simpson 1/3\n",
    "def Simpson(b,a,m):\n",
    "    h = (b-a)/m\n",
    "#Criando uma lista vazia para adicionarmos valores na iteração\n",
    "    x = list()\n",
    "    f_x = list()\n",
    "#Iteração\n",
    "    i = 0\n",
    "    while i<=m:\n",
    "        x.append(a + i*h)\n",
    "        f_x.append(fun(fn,x[i]))\n",
    "        i+=1\n",
    "#Calculando \n",
    "    res = 0\n",
    "    i = 0\n",
    "    while i<=m:\n",
    "        if i==0 or i==m:\n",
    "            res+=f_x[i]\n",
    "        elif i%2 !=0:\n",
    "            res+=4*f_x[i]\n",
    "        else:\n",
    "            res+=2*f_x[i]\n",
    "        i+=1    \n",
    "    res = res*(h/3)\n",
    "    return res\n",
    "fn = input(\"Equaçao: \")\n",
    "fun(fn,x)\n",
    "a = float(input('Limite inferior: '))\n",
    "b = float(input('Limite Superior: '))\n",
    "m = float(input('Subintervalos: '))\n",
    "print(\"Resultado: %.8f\"%Simpson(b,a,m))"
   ]
  },
  {
   "cell_type": "code",
   "execution_count": null,
   "metadata": {},
   "outputs": [],
   "source": []
  }
 ],
 "metadata": {
  "kernelspec": {
   "display_name": "Python 3",
   "language": "python",
   "name": "python3"
  },
  "language_info": {
   "codemirror_mode": {
    "name": "ipython",
    "version": 3
   },
   "file_extension": ".py",
   "mimetype": "text/x-python",
   "name": "python",
   "nbconvert_exporter": "python",
   "pygments_lexer": "ipython3",
   "version": "3.8.3"
  }
 },
 "nbformat": 4,
 "nbformat_minor": 2
}
