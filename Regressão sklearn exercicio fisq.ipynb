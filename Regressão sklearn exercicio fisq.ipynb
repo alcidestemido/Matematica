{
 "cells": [
  {
   "cell_type": "code",
   "execution_count": 98,
   "metadata": {},
   "outputs": [],
   "source": [
    "import numpy as np\n",
    "import pandas as pd\n",
    "import matplotlib.pyplot as plt\n",
    "%matplotlib inline\n",
    "from sklearn.linear_model import LinearRegression\n",
    "from sklearn.preprocessing import PolynomialFeatures\n",
    "from sklearn.metrics import r2_score\n"
   ]
  },
  {
   "cell_type": "code",
   "execution_count": 99,
   "metadata": {},
   "outputs": [
    {
     "data": {
      "text/html": [
       "<div>\n",
       "<style scoped>\n",
       "    .dataframe tbody tr th:only-of-type {\n",
       "        vertical-align: middle;\n",
       "    }\n",
       "\n",
       "    .dataframe tbody tr th {\n",
       "        vertical-align: top;\n",
       "    }\n",
       "\n",
       "    .dataframe thead th {\n",
       "        text-align: right;\n",
       "    }\n",
       "</style>\n",
       "<table border=\"1\" class=\"dataframe\">\n",
       "  <thead>\n",
       "    <tr style=\"text-align: right;\">\n",
       "      <th></th>\n",
       "      <th>t</th>\n",
       "      <th>B</th>\n",
       "    </tr>\n",
       "  </thead>\n",
       "  <tbody>\n",
       "    <tr>\n",
       "      <th>0</th>\n",
       "      <td>75</td>\n",
       "      <td>-274.0</td>\n",
       "    </tr>\n",
       "    <tr>\n",
       "      <th>1</th>\n",
       "      <td>100</td>\n",
       "      <td>-160.0</td>\n",
       "    </tr>\n",
       "    <tr>\n",
       "      <th>2</th>\n",
       "      <td>125</td>\n",
       "      <td>-104.0</td>\n",
       "    </tr>\n",
       "    <tr>\n",
       "      <th>3</th>\n",
       "      <td>150</td>\n",
       "      <td>-71.5</td>\n",
       "    </tr>\n",
       "    <tr>\n",
       "      <th>4</th>\n",
       "      <td>200</td>\n",
       "      <td>-35.2</td>\n",
       "    </tr>\n",
       "    <tr>\n",
       "      <th>5</th>\n",
       "      <td>250</td>\n",
       "      <td>-16.2</td>\n",
       "    </tr>\n",
       "    <tr>\n",
       "      <th>6</th>\n",
       "      <td>300</td>\n",
       "      <td>-4.2</td>\n",
       "    </tr>\n",
       "    <tr>\n",
       "      <th>7</th>\n",
       "      <td>400</td>\n",
       "      <td>9.0</td>\n",
       "    </tr>\n",
       "    <tr>\n",
       "      <th>8</th>\n",
       "      <td>500</td>\n",
       "      <td>16.9</td>\n",
       "    </tr>\n",
       "    <tr>\n",
       "      <th>9</th>\n",
       "      <td>600</td>\n",
       "      <td>21.3</td>\n",
       "    </tr>\n",
       "    <tr>\n",
       "      <th>10</th>\n",
       "      <td>700</td>\n",
       "      <td>24.0</td>\n",
       "    </tr>\n",
       "  </tbody>\n",
       "</table>\n",
       "</div>"
      ],
      "text/plain": [
       "      t      B\n",
       "0    75 -274.0\n",
       "1   100 -160.0\n",
       "2   125 -104.0\n",
       "3   150  -71.5\n",
       "4   200  -35.2\n",
       "5   250  -16.2\n",
       "6   300   -4.2\n",
       "7   400    9.0\n",
       "8   500   16.9\n",
       "9   600   21.3\n",
       "10  700   24.0"
      ]
     },
     "execution_count": 99,
     "metadata": {},
     "output_type": "execute_result"
    }
   ],
   "source": [
    "#1) O segundo coeficiente de virial do N2 foi determinado para o seguinte \n",
    "#   conjunto de temperaturas:\n",
    "dados = {'t':[75,100,125,150,200,250,300,400,500,600,700],\n",
    "        'B':[-274,-160,-104,-71.5,-35.2,-16.2,-4.2,9.0,16.9,21.3,24]}\n",
    "#a)Ajuste estes dados a função : B= Alfa + Beta*T + Gama*T^2 + Teta*T^3\n",
    "data = pd.DataFrame(dados)\n",
    "data"
   ]
  },
  {
   "cell_type": "code",
   "execution_count": 100,
   "metadata": {},
   "outputs": [
    {
     "data": {
      "text/plain": [
       "<matplotlib.legend.Legend at 0x2bfae2c9da0>"
      ]
     },
     "execution_count": 100,
     "metadata": {},
     "output_type": "execute_result"
    },
    {
     "data": {
      "image/png": "[encoded data removed]",
      "text/plain": [
       "<Figure size 792x432 with 1 Axes>"
      ]
     },
     "metadata": {
      "needs_background": "light"
     },
     "output_type": "display_data"
    }
   ],
   "source": [
    "plt.rcParams[\"figure.figsize\"] = (11,6)\n",
    "plt.plot(dados['t'],dados['B'],'o',label = 'N2')\n",
    "plt.xlabel('T(K)')\n",
    "plt.ylabel('B Virial(cm^3/mol)')\n",
    "plt.title('B x T')\n",
    "plt.legend()"
   ]
  },
  {
   "cell_type": "code",
   "execution_count": 101,
   "metadata": {},
   "outputs": [
    {
     "data": {
      "text/plain": [
       "array([ 5.00971892e-06, -7.05078315e-03,  3.13948634e+00, -4.25692166e+02])"
      ]
     },
     "execution_count": 101,
     "metadata": {},
     "output_type": "execute_result"
    }
   ],
   "source": [
    "mod_linear = np.polyfit(dados['t'],dados['B'],deg = 3)   #deg de degree é o grau em que o polinomio sera ajustado \n",
    "mod_linear"
   ]
  },
  {
   "cell_type": "code",
   "execution_count": 102,
   "metadata": {},
   "outputs": [],
   "source": [
    "Teta = mod_linear[0]\n",
    "Gama = mod_linear[1]\n",
    "Beta = mod_linear[2]\n",
    "Alfa = mod_linear[3]\n"
   ]
  },
  {
   "cell_type": "code",
   "execution_count": 103,
   "metadata": {},
   "outputs": [],
   "source": [
    "t = np.array(dados['t'])\n",
    "forma = PolynomialFeatures(degree=3)\n",
    "t = t.reshape(-1,1)\n",
    "t_polinomial_3 = forma.fit_transform(t)\n",
    "modelo3 = LinearRegression()\n",
    "modelo3.fit(t_polinomial_3,dados['B'])\n",
    "B_polinomial_3 = modelo3.predict(t_polinomial_3)\n",
    "r2 = r2_score(dados['B'],B_polinomial_3)"
   ]
  },
  {
   "cell_type": "code",
   "execution_count": 104,
   "metadata": {},
   "outputs": [],
   "source": [
    "residual = (dados['B'] - B_polinomial_3)\n",
    "min_residual = residual.min()\n",
    "median_residual = np.median(residual)\n",
    "max_residual = residual.max()"
   ]
  },
  {
   "cell_type": "code",
   "execution_count": 105,
   "metadata": {},
   "outputs": [],
   "source": [
    "def f_modelo(x,mod_linear):\n",
    "    Teta = mod_linear[0]\n",
    "    Gama = mod_linear[1]\n",
    "    Beta = mod_linear[2]\n",
    "    Alfa = mod_linear[3]\n",
    "    return Alfa + Beta*x + Gama*x**2 + Teta*x**3"
   ]
  },
  {
   "cell_type": "code",
   "execution_count": 106,
   "metadata": {},
   "outputs": [],
   "source": [
    "t_graf = np.linspace(75,700,1000)\n",
    "f_modelo(t_graf,mod_linear)\n",
    "B_graf = f_modelo(t_graf,mod_linear)"
   ]
  },
  {
   "cell_type": "code",
   "execution_count": 107,
   "metadata": {},
   "outputs": [
    {
     "name": "stdout",
     "output_type": "stream",
     "text": [
      "Sumário:\n",
      "Teta = 0.000005\n",
      "Gama = -0.007051\n",
      "Beta = 3.139486\n",
      "Alfa = -425.692166\n",
      "Coeficiente de determinação(R^2) = 0.938812\n",
      "\n",
      "Residuais:\n",
      "Mínimo residual = -46.222130\n",
      "Mediana residual = 4.548472\n",
      "Máximo residual = 29.640252\n"
     ]
    },
    {
     "data": {
      "image/png": "[encoded data removed]",
      "text/plain": [
       "<Figure size 720x432 with 1 Axes>"
      ]
     },
     "metadata": {
      "needs_background": "light"
     },
     "output_type": "display_data"
    }
   ],
   "source": [
    "plt.style.use('tableau-colorblind10')\n",
    "fig, ax = plt.subplots(figsize=(10,6))\n",
    "ax.plot(dados['t'], dados['B'],'o',label = 'N2')\n",
    "ax.plot(t_graf,B_graf,label = 'Regressão')\n",
    "ax.legend(loc = 'lower right')\n",
    "plt.xlabel('T(K)')\n",
    "plt.ylabel('B Virial(cm^3/mol)')\n",
    "plt.title('B x T')\n",
    "plt.grid()\n",
    "fig.tight_layout()\n",
    "\n",
    "print('Sumário:')\n",
    "print(f\"Teta = {Teta:6.6f}\")\n",
    "print(f\"Gama = {Gama:6.6f}\")\n",
    "print(f\"Beta = {Beta:6.6f}\")\n",
    "print(f\"Alfa = {Alfa:6.6f}\")\n",
    "print(f\"Coeficiente de determinação(R^2) = {r2:6.6f}\") \n",
    "print()\n",
    "print('Residuais:')\n",
    "print(f\"Mínimo residual = {min_residual:6.6f}\" )\n",
    "print(f\"Mediana residual = {median_residual:6.6f}\" )\n",
    "print(f\"Máximo residual = {max_residual:6.6f}\" )"
   ]
  },
  {
   "cell_type": "code",
   "execution_count": 108,
   "metadata": {},
   "outputs": [
    {
     "data": {
      "text/plain": [
       "<matplotlib.lines.Line2D at 0x2bfb093fbe0>"
      ]
     },
     "execution_count": 108,
     "metadata": {},
     "output_type": "execute_result"
    },
    {
     "data": {
      "image/png": "[encoded data removed]",
      "text/plain": [
       "<Figure size 720x432 with 1 Axes>"
      ]
     },
     "metadata": {
      "needs_background": "light"
     },
     "output_type": "display_data"
    }
   ],
   "source": [
    "plt.style.use('tableau-colorblind10')\n",
    "fig, ax = plt.subplots(figsize=(10,6))\n",
    "ax.plot(dados['t'], dados['B'],'o',label = 'N2')\n",
    "ax.plot(t_graf,B_graf,label = 'Regressão')\n",
    "ax.legend(loc = 'lower right')\n",
    "plt.xlabel('T(K)')\n",
    "plt.ylabel('B Virial(cm^3/mol)')\n",
    "plt.title('B x T')\n",
    "plt.grid()\n",
    "fig.tight_layout()\n",
    "plt.axvline(256.0285)\n",
    "plt.axhline(0)"
   ]
  },
  {
   "cell_type": "code",
   "execution_count": 109,
   "metadata": {},
   "outputs": [
    {
     "data": {
      "text/plain": [
       "8.898380045252452e-06"
      ]
     },
     "execution_count": 109,
     "metadata": {},
     "output_type": "execute_result"
    }
   ],
   "source": [
    "f_modelo(256.0285,mod_linear)   #mais preciso que no R \n",
    "                                #precisao parecida com o Auto Newton Rapshon 2.0 "
   ]
  },
  {
   "cell_type": "code",
   "execution_count": null,
   "metadata": {},
   "outputs": [],
   "source": []
  }
 ],
 "metadata": {
  "kernelspec": {
   "display_name": "Python 3",
   "language": "python",
   "name": "python3"
  },
  "language_info": {
   "codemirror_mode": {
    "name": "ipython",
    "version": 3
   },
   "file_extension": ".py",
   "mimetype": "text/x-python",
   "name": "python",
   "nbconvert_exporter": "python",
   "pygments_lexer": "ipython3",
   "version": "3.8.3"
  }
 },
 "nbformat": 4,
 "nbformat_minor": 2
}
